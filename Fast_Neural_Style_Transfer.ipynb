{
  "cells": [
    {
      "cell_type": "markdown",
      "metadata": {
        "id": "DnhtYOu4L2LR"
      },
      "source": [
        "# **Fast Neural Style Transfer**\n",
        "A simple example of using [Fast-NST algorithm](https://arxiv.org/abs/1705.06830) from pre-trained model available on Tensorflow Hub. Training such model from scratch would take a lot of time."
      ]
    },
    {
      "cell_type": "code",
      "execution_count": null,
      "metadata": {
        "id": "AAK396ApZ39J"
      },
      "outputs": [],
      "source": [
        "import tensorflow as tf\n",
        "import numpy as np\n",
        "import cv2\n",
        "import tensorflow_hub as hub"
      ]
    },
    {
      "cell_type": "markdown",
      "metadata": {
        "id": "e0EzM5K2rdDb"
      },
      "source": [
        "**Important info about Google Colab:**\n",
        "\n",
        "1. *If you are using Google Colab the data can be imported from google drive, before doing so, include the code below.*\n",
        "2. *Images are loaded via openCV, there is a patch for Google Colab for imshow function. Then you have to use cv2_imshow instead of cv2.imshow*\n",
        "3. *Enable the GPU runtime!*"
      ]
    },
    {
      "cell_type": "code",
      "execution_count": null,
      "metadata": {
        "id": "mD_By8D2aEdW"
      },
      "outputs": [],
      "source": [
        "# from google.colab.patches import cv2_imshow\n",
        "# from google.colab import drive\n",
        "# drive.mount('/content/drive')"
      ]
    },
    {
      "cell_type": "markdown",
      "metadata": {
        "id": "diFDx5BfzKlO"
      },
      "source": [
        "**Download the Arbitrary image stylization model**"
      ]
    },
    {
      "cell_type": "code",
      "execution_count": null,
      "metadata": {
        "id": "FgJON-f-zTJi"
      },
      "outputs": [],
      "source": [
        "model = hub.load('https://tfhub.dev/google/magenta/arbitrary-image-stylization-v1-256/2')"
      ]
    },
    {
      "cell_type": "markdown",
      "metadata": {
        "id": "HRMr6O5iMAOm"
      },
      "source": [
        "## **1. Images preparation**"
      ]
    },
    {
      "cell_type": "code",
      "execution_count": null,
      "metadata": {
        "id": "yuTdyNLzy9gX"
      },
      "outputs": [],
      "source": [
        "IMG_WIDTH = 400\n",
        "IMG_HEIGHT = 300\n",
        "\n",
        "CONTENT_IMAGE_URL = \"img/louvre-small.jpg\"\n",
        "STYLE_IMAGE_URL = \"img/k3.jpg\""
      ]
    },
    {
      "cell_type": "markdown",
      "metadata": {
        "id": "HPj76mL0xNtS"
      },
      "source": [
        "### **1.1 Image preparation helper functions:**"
      ]
    },
    {
      "cell_type": "code",
      "execution_count": null,
      "metadata": {
        "id": "UkkgZeu9w4fY"
      },
      "outputs": [],
      "source": [
        "def load_image(url, width, height, color_mode):\n",
        "    image = cv2.imread(url)\n",
        "    image = cv2.resize(image, (width, height))\n",
        "    \n",
        "    print(image.shape, \"\\n\")\n",
        "    if cv2_imshow:\n",
        "        cv2_imshow(image)\n",
        "    else:\n",
        "        cv2.imshow(image)\n",
        "\n",
        "    image = cv2.cvtColor(image, color_mode)\n",
        "    image = np.reshape(image, ((1,) + image.shape))\n",
        "    image = tf.image.convert_image_dtype(image, tf.float32)\n",
        "\n",
        "    return image\n",
        "\n",
        "\n",
        "def tensor_to_image(tensor):\n",
        "    tensor = tensor * 255\n",
        "    tensor = np.array(tensor, dtype=np.uint8)\n",
        "    if np.ndim(tensor) > 3:\n",
        "        assert tensor.shape[0] == 1\n",
        "        tensor = tensor[0]\n",
        "\n",
        "    return cv2.cvtColor(tensor, cv2.COLOR_BGR2RGB)"
      ]
    },
    {
      "cell_type": "markdown",
      "metadata": {
        "id": "OMQCMj8XxZ-S"
      },
      "source": [
        "### **1.2 Load images:**"
      ]
    },
    {
      "cell_type": "code",
      "execution_count": null,
      "metadata": {
        "id": "Dk4Ay5VFaCMW"
      },
      "outputs": [],
      "source": [
        "print(\"\\nContent image:\")\n",
        "content_image = load_image(CONTENT_IMAGE_URL, IMG_WIDTH, IMG_HEIGHT, cv2.COLOR_BGR2RGB)\n",
        "\n",
        "print(\"\\nStyle image:\")\n",
        "style_image = load_image(STYLE_IMAGE_URL, IMG_WIDTH, IMG_HEIGHT, cv2.COLOR_BGR2RGB)"
      ]
    },
    {
      "cell_type": "markdown",
      "metadata": {
        "id": "7dD6qEEvM1ht"
      },
      "source": [
        "## **2. Generate the image**\n",
        "It's much easier to use this network compared to normal NST as it's based on pre-trained features. Furthermore, we are using ready to use model so we don't have to configure anything (unfortunately we can't customize it for best results)."
      ]
    },
    {
      "cell_type": "code",
      "execution_count": null,
      "metadata": {
        "id": "PBMWg2BGkdR0"
      },
      "outputs": [],
      "source": [
        "stylized_image = model(content_image, style_image)[0]\n",
        "\n",
        "image = tensor_to_image(stylized_image)\n",
        "\n",
        "cv2.imwrite(\"image.jpg\", image)\n",
        "\n",
        "if cv2_imshow:\n",
        "    cv2_imshow(image)\n",
        "else:\n",
        "    cv2.imshow(image)"
      ]
    }
  ],
  "metadata": {
    "accelerator": "GPU",
    "colab": {
      "provenance": []
    },
    "gpuClass": "standard",
    "kernelspec": {
      "display_name": "Python 3",
      "name": "python3"
    },
    "language_info": {
      "name": "python"
    }
  },
  "nbformat": 4,
  "nbformat_minor": 0
}
